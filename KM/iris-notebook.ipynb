{
 "cells": [
  {
   "cell_type": "markdown",
   "id": "72e3c96d-6d9c-477e-81d2-1c53e53a1b66",
   "metadata": {},
   "source": [
    "# 10 minutes to Data Wrangling\n",
    "\n",
    "Data wrangling is the process of transforming and structuring data from one raw form into a desired format with the intent of improving data quality and making it more consumable and useful for analytics or machine learning."
   ]
  },
  {
   "cell_type": "code",
   "execution_count": null,
   "id": "de3854d2-feb2-42cb-acb4-143261727045",
   "metadata": {},
   "outputs": [],
   "source": [
    "import numpy as np\n",
    "\n",
    "import pandas as pd"
   ]
  },
  {
   "cell_type": "markdown",
   "id": "d5c0a6d5-ab9a-4856-ae12-8f886a564f4c",
   "metadata": {},
   "source": [
    "## Basic data structures\n",
    "\n",
    "Pandas provides two types of classes for handling data:\n",
    "\n",
    "### Series: \n",
    "a one-dimensional labeled array holding data of any type\n",
    "such as integers, strings, Python objects etc.\n",
    "\n",
    "### DataFrame: \n",
    "a two-dimensional data structure that holds data like a two-dimension array or a table with rows and columns."
   ]
  },
  {
   "cell_type": "markdown",
   "id": "4558563b-748c-4f52-8808-b40d04ef6537",
   "metadata": {},
   "source": [
    "# Object creation\n",
    "Creating a Series by passing a list of values, letting pandas create a default RangeIndex."
   ]
  },
  {
   "cell_type": "code",
   "execution_count": null,
   "id": "22a40dbf-b56c-4926-b6a5-a639a4427903",
   "metadata": {},
   "outputs": [],
   "source": [
    "s = pd.Series([1, 3, 5, np.nan, 6, 8])\n",
    "s"
   ]
  },
  {
   "cell_type": "markdown",
   "id": "44932855-a253-425a-b564-bf0738114f43",
   "metadata": {},
   "source": [
    "Creating a DataFrame by passing a NumPy array with a datetime index using date_range() and labeled columns:"
   ]
  },
  {
   "cell_type": "code",
   "execution_count": null,
   "id": "6c9a79f4-367e-430c-af7a-e7e9a8decc53",
   "metadata": {},
   "outputs": [],
   "source": [
    "dates = pd.date_range(\"20130101\", periods=6)\n",
    "dates"
   ]
  },
  {
   "cell_type": "code",
   "execution_count": null,
   "id": "5314306b-70c2-454a-92c1-fb4a8cae854a",
   "metadata": {},
   "outputs": [],
   "source": [
    "df = pd.DataFrame(np.random.randn(6, 4), index=dates, columns=list(\"ABCD\"))\n",
    "df"
   ]
  },
  {
   "cell_type": "markdown",
   "id": "e6787349-e04e-4af7-952b-44deeed9239b",
   "metadata": {},
   "source": [
    "Creating a DataFrame by passing a dictionary of objects where the keys are the column labels and the values are the column values"
   ]
  },
  {
   "cell_type": "code",
   "execution_count": null,
   "id": "043e7777-0d27-4ae8-8cb3-f48112999c86",
   "metadata": {},
   "outputs": [],
   "source": [
    "df2 = pd.DataFrame(\n",
    "    {\n",
    "        \"A\": 1.0,\n",
    "        \"B\": pd.Timestamp(\"20130102\"),\n",
    "        \"C\": pd.Series(1, index=list(range(4)), dtype=\"float32\"),\n",
    "        \"D\": np.array([3] * 4, dtype=\"int32\"),\n",
    "        \"E\": pd.Categorical([\"test\", \"train\", \"test\", \"train\"]),\n",
    "        \"F\": \"foo\",\n",
    "    }\n",
    ")\n",
    "df2"
   ]
  },
  {
   "cell_type": "markdown",
   "id": "7bf2d41a-4eff-4077-94a1-d7f6aff4f0ba",
   "metadata": {},
   "source": [
    "The columns of the resulting DataFrame have different dtypes:"
   ]
  },
  {
   "cell_type": "code",
   "execution_count": null,
   "id": "049a2ddc-4e7a-4adc-a185-5baef8de6edb",
   "metadata": {},
   "outputs": [],
   "source": [
    "df2.dtypes"
   ]
  },
  {
   "cell_type": "markdown",
   "id": "4aa167ac-4f04-417a-b537-7292d51bf03d",
   "metadata": {},
   "source": [
    "# Viewing data"
   ]
  },
  {
   "cell_type": "code",
   "execution_count": null,
   "id": "4c4ea5b2-6073-4dd1-9262-ab9afa471d4c",
   "metadata": {},
   "outputs": [],
   "source": [
    "df.head()"
   ]
  },
  {
   "cell_type": "code",
   "execution_count": null,
   "id": "117d8438-2869-42f3-a626-fefb1b588aa3",
   "metadata": {},
   "outputs": [],
   "source": [
    "df.tail(3)"
   ]
  },
  {
   "cell_type": "code",
   "execution_count": null,
   "id": "c49a3af7-5a22-4e7a-823a-26cdafbae643",
   "metadata": {},
   "outputs": [],
   "source": [
    "df.T #transpose"
   ]
  },
  {
   "cell_type": "code",
   "execution_count": null,
   "id": "fda648f9-f7f0-4a7f-9718-ec9667cf419e",
   "metadata": {},
   "outputs": [],
   "source": [
    "df.sort_index() #sorts by an axis"
   ]
  },
  {
   "cell_type": "code",
   "execution_count": null,
   "id": "f823f12d-09e4-4773-b08a-0580d30677c9",
   "metadata": {},
   "outputs": [],
   "source": [
    "df.sort_values(by=\"B\") #sorts by values"
   ]
  },
  {
   "cell_type": "markdown",
   "id": "bf8d79a1-8902-4c48-99ad-ddc67dfd6813",
   "metadata": {},
   "source": [
    "# Missing data\n",
    "Reindexing allows you to change/add/delete the index on a specified axis. This returns a copy of the data:"
   ]
  },
  {
   "cell_type": "code",
   "execution_count": null,
   "id": "08a389f1-fb61-4fe3-8619-88cc565bb391",
   "metadata": {},
   "outputs": [],
   "source": [
    "df1 = df.reindex(index=dates[0:4], columns=list(df.columns) + [\"E\"])\n",
    "df1.loc[dates[0] : dates[1], \"E\"] = 1\n",
    "df1"
   ]
  },
  {
   "cell_type": "code",
   "execution_count": null,
   "id": "31631175-022d-467c-bf05-d0f4ca67c69b",
   "metadata": {},
   "outputs": [],
   "source": [
    "df1.dropna(how=\"any\") #drops any rows that have missing data:"
   ]
  },
  {
   "cell_type": "code",
   "execution_count": null,
   "id": "057647a9-7a5c-48e0-a16c-e58d566df194",
   "metadata": {},
   "outputs": [],
   "source": [
    "df1.fillna(value=5) #fills missing data:"
   ]
  },
  {
   "cell_type": "code",
   "execution_count": null,
   "id": "9ba9772a-ca5c-4991-8410-4e184cf120d8",
   "metadata": {},
   "outputs": [],
   "source": [
    "pd.isna(df1) #gets the boolean mask where values are nan:"
   ]
  },
  {
   "cell_type": "markdown",
   "id": "6fc9625a-0391-402b-8773-74d2f0e034ab",
   "metadata": {},
   "source": [
    "# Join\n",
    "merge() enables SQL style join types along specific columns. See the Database style joining section."
   ]
  },
  {
   "cell_type": "code",
   "execution_count": null,
   "id": "a545697d-a054-4d1b-9b24-e80719ea6e6d",
   "metadata": {},
   "outputs": [],
   "source": [
    "left = pd.DataFrame({\"key\": [\"foo\", \"foo\"], \"lval\": [1, 2]})\n",
    "left"
   ]
  },
  {
   "cell_type": "code",
   "execution_count": null,
   "id": "ef55b32e-4e16-4617-8e38-3a0e9f1af0d1",
   "metadata": {},
   "outputs": [],
   "source": [
    "right = pd.DataFrame({\"key\": [\"foo\", \"foo\"], \"rval\": [4, 5]})\n",
    "right"
   ]
  },
  {
   "cell_type": "code",
   "execution_count": null,
   "id": "b1508c9e-209c-45cc-af90-a6542b9d7180",
   "metadata": {},
   "outputs": [],
   "source": [
    "pd.merge(left, right, on=\"key\")"
   ]
  },
  {
   "cell_type": "code",
   "execution_count": null,
   "id": "f4c676a8-7bb5-4e36-8807-5000e558c5f2",
   "metadata": {},
   "outputs": [],
   "source": [
    "pd.merge(left, right, on=\"key\") #merge() on unique keys:"
   ]
  },
  {
   "cell_type": "markdown",
   "id": "b46ec6a4-44e8-44fe-acfb-8d7a3dca4239",
   "metadata": {},
   "source": [
    "More operations at: https://pandas.pydata.org/docs/user_guide/10min.html"
   ]
  },
  {
   "cell_type": "markdown",
   "id": "5c3dccae-a380-4d48-922e-d50f6ceece9f",
   "metadata": {},
   "source": [
    "# What are examples of order of Pandas operations? "
   ]
  },
  {
   "cell_type": "markdown",
   "id": "32c0722b-c2c7-4eba-aec3-a4be038dd3fb",
   "metadata": {},
   "source": [
    "# 1. Load data from a CSV file\n",
    "This code imports the Pandas library and reads a CSV file called \"data.csv.\" The data sets from the CSV file are loaded into a DataFrame object called df. \n",
    "\n",
    "DataFrames are the primary data structure used in Pandas for storing and manipulating data. Open a command prompt and enter:\n",
    "\n",
    "import Pandas as pd\n",
    "\n",
    "df = pd.read_csv(\"data.csv\")\n",
    "\n",
    "# 2. Selecting specific columns\n",
    "This code selects two specific columns, \"column1\" and \"column2\". from the DataFrame df and creates a new DataFrame called selected_columns, containing only those columns. \n",
    "\n",
    "selected_columns = df[[\"column1\",\"column2\"]]\n",
    "\n",
    "# 3. Filtering rows based on a condition\n",
    "This code filters the DataFrame df to include only rows where the value in \"column1\" is greater than 10. \n",
    "\n",
    "The filtered rows are stored in a new DataFrame called filtered_rows.\n",
    "\n",
    "filtered_rows = df[df[\"column1\"]>10]\n",
    "\n",
    "# 4. Renaming columns\n",
    "This code renames a column in the DataFrame df by providing a dictionary with the old column name as the key and the new column name as the value. \n",
    "\n",
    "The inplace=True argument tells Pandas to perform the renaming operation directly on the original DataFrame, rather than creating a new DataFrame with the updated column names.\n",
    "\n",
    "Enter the following command:\n",
    "\n",
    "df.rename(columns={\"old_column_name\":\"new_column_name\"}, inplace=True)\n",
    "\n",
    "# 5. Grouping data by a specific column\n",
    "This code groups the DataFrame df by the unique values in the \"column1\" column and calculates the mean of the other columns for each group. \n",
    "\n",
    "The resulting grouped data is stored in a new DataFrame called grouped_data.\n",
    "\n",
    "grouped_data=df.groupby(\"column1\").mean()\n",
    "\n",
    "# 6. Merging two DataFrames\n",
    "This code merges two DataFrames, df1 and df2, based on a common column called \"common_column\". \n",
    "\n",
    "The resulting merged DataFrame is stored in a new DataFrame called merged_data.\n",
    "\n",
    "merged_data=pd.merge(df1,df2,on=\"common_column\")\n",
    "\n",
    "# 7. Creating a line plot with Pandas and Matplotlib\n",
    "This code imports the Matplotlib library and uses the built-in Pandas plotting function to create a line plot. \n",
    "\n",
    "The x-axis represents the data in the \"column1\" column, and the y-axis represents the data in the \"column2\" column. \n",
    "\n",
    "The kind=\"line\" argument specifies that the plot should be a line plot. Finally, plt.show() displays the plot.\n",
    "\n",
    "Enter the following command:\n",
    "\n",
    "import matplotlib.pyplot as plt\n",
    "\n",
    "​df.plot(x=\"column1\",y=\"column2\",kind=\"line\")\n",
    "\n",
    "plt.show()\n"
   ]
  },
  {
   "cell_type": "markdown",
   "id": "53952d3e-6872-4b36-91f0-a1689de4ac03",
   "metadata": {},
   "source": [
    "# IRIS Dataset"
   ]
  },
  {
   "cell_type": "markdown",
   "id": "b564ff73-c61f-45a5-bd7c-059c3afa2bde",
   "metadata": {},
   "source": [
    "https://archive.ics.uci.edu/dataset/53/iris"
   ]
  },
  {
   "cell_type": "markdown",
   "id": "3ea6835a-93b3-4a01-902e-c7b106eeb546",
   "metadata": {},
   "source": [
    "# ETL"
   ]
  },
  {
   "cell_type": "code",
   "execution_count": null,
   "id": "a3a6912b-a89d-4ab0-bd33-22fbe548dc3d",
   "metadata": {},
   "outputs": [],
   "source": [
    "import pandas as pd\n",
    "\n",
    "iris = pd.read_csv('iris.data',header=None)"
   ]
  },
  {
   "cell_type": "code",
   "execution_count": null,
   "id": "f06fe5ff-b7ac-41dd-bbab-c26d7e67ff20",
   "metadata": {},
   "outputs": [],
   "source": [
    "iris.head()"
   ]
  },
  {
   "cell_type": "code",
   "execution_count": null,
   "id": "d30bf966-5a6e-4237-ab0b-590ed41294c3",
   "metadata": {},
   "outputs": [],
   "source": [
    "iris.info()"
   ]
  },
  {
   "cell_type": "code",
   "execution_count": null,
   "id": "7d722144-e321-43cf-8c40-e7883fd85182",
   "metadata": {},
   "outputs": [],
   "source": [
    "iris.describe()"
   ]
  },
  {
   "cell_type": "code",
   "execution_count": null,
   "id": "e43fa8cc-db3c-4864-90ab-048cdf4bca29",
   "metadata": {},
   "outputs": [],
   "source": [
    "iris.columns = [\"SepalLengthCm\",\"SepalWidthCm\",\"PetalLengthCm\",\"PetalWidthCm\",\"Species\"]"
   ]
  },
  {
   "cell_type": "code",
   "execution_count": null,
   "id": "f314721b-4139-4eb1-8c8d-8eeb947236d8",
   "metadata": {},
   "outputs": [],
   "source": [
    "iris[\"Species\"].value_counts()"
   ]
  },
  {
   "cell_type": "code",
   "execution_count": null,
   "id": "40660d20-3866-4bbf-a594-59efe5ac1972",
   "metadata": {},
   "outputs": [],
   "source": [
    "iris.plot(kind=\"scatter\", x=\"SepalLengthCm\", y=\"SepalWidthCm\")"
   ]
  },
  {
   "cell_type": "code",
   "execution_count": null,
   "id": "9aba093b-9e44-4cc7-825a-369d5efa8f40",
   "metadata": {},
   "outputs": [],
   "source": [
    "import seaborn as sns\n",
    "sns.pairplot(iris, hue=\"Species\")"
   ]
  },
  {
   "cell_type": "markdown",
   "id": "79a9e611-2c1f-44e1-8cf1-1de2b300f51e",
   "metadata": {},
   "source": [
    "# Evaluating Machine Learning Models to predict the species of an iris flower"
   ]
  },
  {
   "cell_type": "markdown",
   "id": "1a96e3e9-6609-40ed-9656-75b736865b1a",
   "metadata": {},
   "source": [
    "### Importing the libraries"
   ]
  },
  {
   "cell_type": "code",
   "execution_count": null,
   "id": "a8baa8ab-2cca-490f-bf73-5effd235b612",
   "metadata": {},
   "outputs": [],
   "source": [
    "# data viz\n",
    "import seaborn as sns\n",
    "import matplotlib.pyplot as plt\n",
    "%matplotlib inline\n",
    "from itertools import cycle\n",
    "import pylab as pl"
   ]
  },
  {
   "cell_type": "code",
   "execution_count": null,
   "id": "f2d6a316-d68b-4601-bb47-2ec47f2bcefe",
   "metadata": {},
   "outputs": [],
   "source": [
    "from sklearn.model_selection import train_test_split\n",
    "from sklearn.model_selection import cross_val_score\n",
    "from sklearn import metrics"
   ]
  },
  {
   "cell_type": "markdown",
   "id": "b9132d3e-e031-4969-85fd-2e871c8e5b3a",
   "metadata": {},
   "source": [
    "### load dataset from sklearn"
   ]
  },
  {
   "cell_type": "code",
   "execution_count": null,
   "id": "9afa7d80-4a56-44f0-a4e0-e528a6ce3730",
   "metadata": {},
   "outputs": [],
   "source": [
    "from sklearn.datasets import load_iris\n",
    "iris = load_iris()"
   ]
  },
  {
   "cell_type": "code",
   "execution_count": null,
   "id": "9dbc0503-2fcf-48ad-9c6a-c737a33ab56d",
   "metadata": {},
   "outputs": [],
   "source": [
    "# create X (features) and y (response)\n",
    "X = iris.data\n",
    "y = iris.target"
   ]
  },
  {
   "cell_type": "markdown",
   "id": "a4fe9c87-701b-426f-874b-364537c39d5d",
   "metadata": {},
   "source": [
    "### K-Nearest Neighbors"
   ]
  },
  {
   "cell_type": "code",
   "execution_count": null,
   "id": "16fe050c-d698-4c70-8380-f152b98b2443",
   "metadata": {},
   "outputs": [],
   "source": [
    "from sklearn.neighbors import KNeighborsClassifier\n",
    "\n",
    "# use train/test split with different random_state values\n",
    "X_train, X_test, y_train, y_test = train_test_split(X, y, random_state=4)\n",
    "\n",
    "# check classification accuracy of KNN with K=5\n",
    "knn = KNeighborsClassifier(n_neighbors=5)\n",
    "\n",
    "knn.fit(X_train, y_train)\n",
    "\n",
    "y_pred = knn.predict(X_test)\n",
    "print(metrics.accuracy_score(y_test, y_pred))"
   ]
  },
  {
   "cell_type": "code",
   "execution_count": null,
   "id": "75373776-30df-4649-9142-163e60500287",
   "metadata": {},
   "outputs": [],
   "source": [
    "# Another way of evaluating the perfomance of our model is using \n",
    "# KFold: This approach is better that train/test split\n",
    "knn = KNeighborsClassifier(n_neighbors=5)\n",
    "\n",
    "scores = cross_val_score(knn, X, y, cv=10, scoring='accuracy')\n",
    "\n",
    "print(scores.mean())\n"
   ]
  },
  {
   "cell_type": "code",
   "execution_count": null,
   "id": "1f5053f6-196a-4d01-ad43-f205339b4ad1",
   "metadata": {},
   "outputs": [],
   "source": [
    "# search for an optimal value of K for KNN\n",
    "k_range = list(range(1, 31))\n",
    "k_scores = []\n",
    "for k in k_range:\n",
    "    knn = KNeighborsClassifier(n_neighbors=k)\n",
    "    scores = cross_val_score(knn, X, y, cv=10, scoring='accuracy')\n",
    "    k_scores.append(scores.mean())\n",
    "print(k_scores)\n",
    "print(\"max score:\",max(k_scores))\n",
    "print(\"K = \",k_scores.index(max(k_scores)))\n",
    "# print(\"K = \",len(k_scores)-k_scores[::-1].index(max(k_scores)))"
   ]
  },
  {
   "cell_type": "code",
   "execution_count": null,
   "id": "bddd3fa1-fdf1-4185-a7d4-ada232c29ea6",
   "metadata": {},
   "outputs": [],
   "source": [
    "# plot the value of K for KNN (x-axis) versus the cross-validated accuracy (y-axis)\n",
    "plt.plot(k_range, k_scores)\n",
    "plt.xlabel('Value of K for KNN')\n",
    "plt.ylabel('Cross-Validated Accuracy')"
   ]
  },
  {
   "cell_type": "markdown",
   "id": "7e7bc867-5f77-4d3f-92d8-28cccd240a70",
   "metadata": {},
   "source": [
    "## Logistic Regression"
   ]
  },
  {
   "cell_type": "code",
   "execution_count": null,
   "id": "8efb300b-e150-4c7e-bd70-0eb65fd6d89d",
   "metadata": {},
   "outputs": [],
   "source": [
    "from sklearn.linear_model import LogisticRegression\n",
    "\n",
    "logreg = LogisticRegression(max_iter=1000)\n",
    "\n",
    "# train the model on the training set\n",
    "logreg.fit(X, y)\n",
    "\n",
    "print(cross_val_score(logreg, X, y, cv=20, scoring='accuracy').mean())\n",
    "\n",
    "# logreg = LogisticRegression()\n",
    "# logreg.fit(X, y)\n",
    "y_pred = logreg.predict(X)\n",
    "print(metrics.accuracy_score(y, y_pred))"
   ]
  },
  {
   "cell_type": "markdown",
   "id": "6e75cff4-bb69-4727-9eec-107d620e289c",
   "metadata": {},
   "source": [
    "# Model Pickles"
   ]
  },
  {
   "cell_type": "markdown",
   "id": "0d2b2f56-c18a-47e0-8cbc-c2bca56ec558",
   "metadata": {},
   "source": [
    "### KNN"
   ]
  },
  {
   "cell_type": "code",
   "execution_count": null,
   "id": "cdccafd3-24da-4595-9b31-ac73742b7032",
   "metadata": {},
   "outputs": [],
   "source": [
    "import pickle\n",
    "PickleModelPath = './knn.pkl'\n",
    "\n",
    "knn.fit(X_train, y_train)\n",
    "\n",
    "with open(PickleModelPath, 'wb') as f:\n",
    "        pickle.dump(knn, f)"
   ]
  },
  {
   "cell_type": "code",
   "execution_count": null,
   "id": "042ab875-2cdf-45a3-ae6c-c58182be3e65",
   "metadata": {},
   "outputs": [],
   "source": [
    "import _pickle as pickle\n",
    "\n",
    "PickleModelPath = './knn.pkl'\n",
    "\n",
    "var1 = [[4.9,3.0,1.4,0.2]]\n",
    "\n",
    "with open(PickleModelPath, 'rb') as k:\n",
    "        PickleModel = pickle.load(k)\n",
    "Answer = PickleModel.predict(var1)\n",
    "\n",
    "print(Answer)\n",
    "print(iris.target_names[Answer])"
   ]
  },
  {
   "cell_type": "markdown",
   "id": "ccb0d2aa-a196-45f9-8f16-fb874f63c3bf",
   "metadata": {},
   "source": [
    "### Logistic Regression"
   ]
  },
  {
   "cell_type": "code",
   "execution_count": null,
   "id": "756c5f66-113e-452a-b6b0-51572ee0a689",
   "metadata": {},
   "outputs": [],
   "source": [
    "import pickle\n",
    "PickleModelPath = './logreg.pkl'\n",
    "\n",
    "with open(PickleModelPath, 'wb') as f:\n",
    "        pickle.dump(logreg, f)"
   ]
  },
  {
   "cell_type": "code",
   "execution_count": null,
   "id": "bb094a8d-fb16-40cb-8a1d-96c73bbab54e",
   "metadata": {},
   "outputs": [],
   "source": [
    "import _pickle as pickle\n",
    "\n",
    "PickleModelPath = './logreg.pkl'\n",
    "\n",
    "var1 = [[4.9,3.0,1.4,0.2]]\n",
    "\n",
    "with open(PickleModelPath, 'rb') as k:\n",
    "        PickleModel = pickle.load(k)\n",
    "Answer = PickleModel.predict(var1)\n",
    "\n",
    "print(Answer)\n",
    "print(iris.target_names[Answer])"
   ]
  }
 ],
 "metadata": {
  "kernelspec": {
   "display_name": "Python 3 (ipykernel)",
   "language": "python",
   "name": "python3"
  },
  "language_info": {
   "codemirror_mode": {
    "name": "ipython",
    "version": 3
   },
   "file_extension": ".py",
   "mimetype": "text/x-python",
   "name": "python",
   "nbconvert_exporter": "python",
   "pygments_lexer": "ipython3",
   "version": "3.11.6"
  }
 },
 "nbformat": 4,
 "nbformat_minor": 5
}
